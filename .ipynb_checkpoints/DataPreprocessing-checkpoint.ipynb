{
 "cells": [
  {
   "cell_type": "markdown",
   "metadata": {},
   "source": [
    "# Crime and public infrastructure in coastal US cities\n",
    "### To what extent do elements of the urban fabric influence crime rates in major US cities?\n",
    "\n",
    "[INSERT OECD SAFETY INDICATOR AND EXPLAIN RELEVANCE]\n",
    "\n",
    "In this project we will explore potential drivers of crime rate in two west coast cities and two east coast cities using open data and the R language.\n",
    "\n",
    "Our objective is to look at elements of the urban fabric that contribute to the \"cleanliness\" and \"care\" of streets and investigate wether one or more of such variables carry more weight on the amount of crime associate with that area.\n",
    "\n",
    "[INSERT WORLD BANK ARTICLE DEFENCE FOR OUR VARIABLES OF INTEREST]\n",
    "\n",
    "https://www.worldbank.org/en/news/feature/2015/06/09/por-que-las-calles-mas-limpias-pueden-ser-mas-seguras?fbclid=IwAR1Zw2e-c91SLA0gBBTgFHKZnU2uFMaJ6eeHMqJWYDkj5UQwdw05oNNB0-s\n",
    "\n",
    "For this analysis we will consider the following variables:\n",
    "    - Street trees\n",
    "    - Trash Cans\n",
    "    - Bike Racks\n",
    "    - Street lights\n",
    "\n",
    "For this analysis we have only used public datasets found on municipal open data portals. Our data sources are listed below:"
   ]
  },
  {
   "cell_type": "markdown",
   "metadata": {},
   "source": [
    "## Part 1: Data Preprocessing"
   ]
  },
  {
   "cell_type": "code",
   "execution_count": 1,
   "metadata": {},
   "outputs": [
    {
     "name": "stderr",
     "output_type": "stream",
     "text": [
      "Loading required package: sp\n",
      "rgdal: version: 1.4-6, (SVN revision 841)\n",
      " Geospatial Data Abstraction Library extensions to R successfully loaded\n",
      " Loaded GDAL runtime: GDAL 2.2.3, released 2017/11/20\n",
      " Path to GDAL shared files: C:/Users/Carol/OneDrive/Documents/R/win-library/3.6/rgdal/gdal\n",
      " GDAL binary built with GEOS: TRUE \n",
      " Loaded PROJ.4 runtime: Rel. 4.9.3, 15 August 2016, [PJ_VERSION: 493]\n",
      " Path to PROJ.4 shared files: C:/Users/Carol/OneDrive/Documents/R/win-library/3.6/rgdal/proj\n",
      " Linking to sp version: 1.3-1 \n",
      "Linking to GEOS 3.6.1, GDAL 2.2.3, PROJ 4.9.3\n",
      "Google's Terms of Service: https://cloud.google.com/maps-platform/terms/.\n",
      "Please cite ggmap if you use it! See citation(\"ggmap\") for details.\n",
      "rgeos version: 0.5-2, (SVN revision 621)\n",
      " GEOS runtime version: 3.6.1-CAPI-1.10.1 \n",
      " Linking to sp version: 1.3-1 \n",
      " Polygon checking: TRUE \n",
      "\n",
      "-- Attaching packages --------------------------------------- tidyverse 1.2.1 --\n",
      "v tibble  2.1.3     v purrr   0.3.2\n",
      "v tidyr   1.0.0     v dplyr   0.8.3\n",
      "v readr   1.3.1     v stringr 1.4.0\n",
      "v tibble  2.1.3     v forcats 0.4.0\n",
      "-- Conflicts ------------------------------------------ tidyverse_conflicts() --\n",
      "x dplyr::filter() masks stats::filter()\n",
      "x dplyr::lag()    masks stats::lag()\n",
      "x purrr::map()    masks maps::map()\n",
      "Linking to liblwgeom 2.5.0dev r16016, GEOS 3.6.1, PROJ 4.9.3\n"
     ]
    }
   ],
   "source": [
    "#Let's start by setting our directory and importing relevant packages\n",
    "setwd(\"C:/Users/Carol/Documents/EPA 2019-2020/EPA1315/EPA1315_Assignments/EPA1315_FinalProject/EPA1315_FinalProject_Work\")\n",
    "#Install required For this project\n",
    "install.packages(c('wesanderson', 'RColorBrewer', 'sf', 'ggmap', 'maps', 'mapdata', 'rgeos', 'tidyverse', 'lwgeom', 'stringr', 'plotly'))\n",
    "#Libraries required For this project\n",
    "library(rgdal)\n",
    "library(ggplot2)\n",
    "library(wesanderson)\n",
    "library(RColorBrewer)\n",
    "library(sf)\n",
    "library(ggplot2)\n",
    "library(ggmap)\n",
    "library(maps)\n",
    "library(mapdata)\n",
    "library(rgeos)\n",
    "library(tidyverse)\n",
    "library(lwgeom)\n",
    "library(stringr)\n",
    "library(dplyr)"
   ]
  },
  {
   "cell_type": "markdown",
   "metadata": {},
   "source": [
    "### 1.1 San Francisco"
   ]
  },
  {
   "cell_type": "code",
   "execution_count": 4,
   "metadata": {},
   "outputs": [
    {
     "ename": "ERROR",
     "evalue": "Error: Cannot open \"Data/SF/Assets/geo_export_d7f59e21-8bca-42e3-b982-a40615a1dba7.shp\"; The file doesn't seem to exist.\n",
     "output_type": "error",
     "traceback": [
      "Error: Cannot open \"Data/SF/Assets/geo_export_d7f59e21-8bca-42e3-b982-a40615a1dba7.shp\"; The file doesn't seem to exist.\nTraceback:\n",
      "1. st_read(\"Data/SF/Assets/geo_export_d7f59e21-8bca-42e3-b982-a40615a1dba7.shp\")",
      "2. st_read.character(\"Data/SF/Assets/geo_export_d7f59e21-8bca-42e3-b982-a40615a1dba7.shp\")",
      "3. CPL_read_ogr(dsn, layer, query, as.character(options), quiet, \n .     type, fid_column_name, drivers, promote_to_multi, int64_as_string, \n .     dsn_exists, dsn_isdb)"
     ]
    }
   ],
   "source": [
    "#Now let's import data for san francisco\n",
    "#Open SF public infrastructure assets\n",
    "SF_assets <- st_read(\"Data/SF/Assets/geo_export_d7f59e21-8bca-42e3-b982-a40615a1dba7.shp\")\n",
    "#Open SF trees\n",
    "SF_trees <- st_read(\"Data/SF/Trees/geo_export_23873827-8da7-4487-9fe7-bf9ce37d7c7d.shp\")\n",
    "#Open SF precincts\n",
    "SF_prcnts <- st_read(\"Data/SF/Precincts/geo_export_0665516f-f29b-4978-8f0a-b270abce6a43.shp\")\n",
    "#Open SF crime\n",
    "SF_crime <- st_read(\"Data/SF/Crime/geo_export_63c82a7d-2120-4694-9aab-8c844c26bd1e.shp\")"
   ]
  },
  {
   "cell_type": "code",
   "execution_count": 77,
   "metadata": {},
   "outputs": [
    {
     "data": {
      "text/plain": [
       "Coordinate Reference System:\n",
       "  EPSG: 4326 \n",
       "  proj4string: \"+proj=longlat +datum=WGS84 +no_defs\""
      ]
     },
     "metadata": {},
     "output_type": "display_data"
    },
    {
     "data": {
      "text/plain": [
       "Coordinate Reference System:\n",
       "  EPSG: 4326 \n",
       "  proj4string: \"+proj=longlat +datum=WGS84 +no_defs\""
      ]
     },
     "metadata": {},
     "output_type": "display_data"
    },
    {
     "data": {
      "text/plain": [
       "Coordinate Reference System:\n",
       "  EPSG: 4326 \n",
       "  proj4string: \"+proj=longlat +datum=WGS84 +no_defs\""
      ]
     },
     "metadata": {},
     "output_type": "display_data"
    },
    {
     "data": {
      "text/plain": [
       "Coordinate Reference System:\n",
       "  EPSG: 4326 \n",
       "  proj4string: \"+proj=longlat +datum=WGS84 +no_defs\""
      ]
     },
     "metadata": {},
     "output_type": "display_data"
    },
    {
     "data": {
      "text/plain": [
       "Coordinate Reference System:\n",
       "  EPSG: 4326 \n",
       "  proj4string: \"+proj=longlat +datum=WGS84 +no_defs\""
      ]
     },
     "metadata": {},
     "output_type": "display_data"
    }
   ],
   "source": [
    "#Reproject spatial layers\n",
    "SF_prcnts <- st_transform(SF_prcnts, \"+proj=longlat +datum=WGS84 +no_defs\")\n",
    "SF_assets <- st_transform(SF_assets, \"+proj=longlat +datum=WGS84 +no_defs\")\n",
    "SF_trcts <- st_transform(SF_trcts, \"+proj=longlat +datum=WGS84 +no_defs\")\n",
    "SF_crime <- st_transform(SF_crime, \"+proj=longlat +datum=WGS84 +no_defs\")\n",
    "SF_trees <- st_transform(SF_trees, \"+proj=longlat +datum=WGS84 +no_defs\")\n",
    "#Check that all spatial layers are in the same coordinate system\n",
    "st_crs(SF_assets)\n",
    "st_crs(SF_trcts)\n",
    "st_crs(SF_crime)\n",
    "st_crs(SF_trees)\n",
    "st_crs(SF_prcnts)"
   ]
  },
  {
   "cell_type": "code",
   "execution_count": 78,
   "metadata": {},
   "outputs": [],
   "source": [
    "#SF_assets has information about many types of public assets (trash cans, benches, light posts etc.)\n",
    "#levels(SF_assets$asset_type)\n",
    "#let's extract the public assets of interest for our analysis (\"Trash Can\" and \"Lamp Post\")\n",
    "#SF_trashcans\n",
    "SF_trashcans <- SF_assets %>%\n",
    "  dplyr::select(asset_type, geometry) %>%   \n",
    "  filter(str_detect(asset_type, c('Trash Can')))\n",
    "SF_trashcans$trashcount <- 1\n",
    "\n",
    "#SF_streetlights\n",
    "SF_streetlights <- SF_assets %>%\n",
    "  dplyr::select(asset_type, geometry) %>%   \n",
    "  filter(str_detect(asset_type, c('Lamp Post')))\n",
    "SF_streetlights$lightcount <- 1\n",
    "\n",
    "#Now let's clean up our other layers to include only columns of interest\n",
    "#Precincts\n",
    "SF_prcnts <- select(SF_prcnts, 'neighrep', 'prec_2012', 'geometry')\n",
    "#Trees\n",
    "SF_trees <- subset(SF_trees, is.na(SF_trees$xcoord) == FALSE) \n",
    "SF_trees <- select(SF_trees, 'treeid', 'xcoord', 'ycoord', 'geometry')\n",
    "SF_trees$treecount <- 1\n",
    "#Crime\n",
    "SF_crime <- subset(SF_crime, is.na(SF_crime$supervisor) == FALSE)\n",
    "SF_crime <- select(SF_crime, 'analysis_n','geometry')\n",
    "SF_crime$crimecount <- 1"
   ]
  },
  {
   "cell_type": "code",
   "execution_count": 79,
   "metadata": {},
   "outputs": [],
   "source": [
    "#let's write a function that takes in all the variables, performs spatial joins on points inside a given geometry (precincts), and summarizes \n",
    "#by geometry\n",
    "\n",
    "SF_trct_varsfunc <- function(geom, var1, var2, var3, var4) {\n",
    "    #var1=trees; var2=crime; var3=streetlights; var4=trashcans\n",
    "    \n",
    "    #Join first variable\n",
    "    SF_trcts_var1 <- st_join(geom, left = TRUE, var1[length(var1)])\n",
    "    SF_trcts_var1 <- group_by(SF_trcts_var1, neighrep, prec_2012)\n",
    "    SF_trcts_var1 <- summarise(SF_trcts_var1, treecount = sum(treecount))\n",
    "    #Join second variable\n",
    "    SF_trcts_var12 <- st_join(SF_trcts_var1, left = TRUE, var2[length(var2)])\n",
    "    SF_trcts_var12 <- group_by(SF_trcts_var12, neighrep, prec_2012, treecount)\n",
    "    SF_trcts_var12 <- summarise(SF_trcts_var12, crimecount = sum(crimecount))\n",
    "    #Join third variable\n",
    "    SF_trcts_var123 <- st_join(SF_trcts_var12, left = TRUE, var3[length(var3)])\n",
    "    SF_trcts_var123 <- group_by(SF_trcts_var123, neighrep, prec_2012, treecount, crimecount)\n",
    "    SF_trcts_var123 <- summarise(SF_trcts_var123, lightcount = sum(lightcount))\n",
    "    #Join fourth variable\n",
    "    SF_trcts_var1234 <- st_join(SF_trcts_var123, left = TRUE, var4[length(var4)])\n",
    "    SF_trcts_var1234 <- group_by(SF_trcts_var1234, neighrep, prec_2012, treecount, crimecount, lightcount)\n",
    "    SF_trcts_var1234 <- summarise(SF_trcts_var1234, trashcount = sum(trashcount))\n",
    "\n",
    "    #replace NA values with 0 (meaning that the count for a given var is 0 if there was no point within a polygon)\n",
    "    SF_trcts_var1234[is.na(SF_trcts_var1234)] <- 0\n",
    "    SF_trcts_vars <- SF_trcts_var1234\n",
    "   return(SF_trcts_vars)\n",
    "}"
   ]
  },
  {
   "cell_type": "code",
   "execution_count": 81,
   "metadata": {},
   "outputs": [
    {
     "name": "stderr",
     "output_type": "stream",
     "text": [
      "although coordinates are longitude/latitude, st_intersects assumes that they are planar\n",
      "Warning message:\n",
      "\"Factor `prec_2012` contains implicit NA, consider using `forcats::fct_explicit_na`\"although coordinates are longitude/latitude, st_intersects assumes that they are planar\n",
      "Warning message:\n",
      "\"Factor `prec_2012` contains implicit NA, consider using `forcats::fct_explicit_na`\"although coordinates are longitude/latitude, st_intersects assumes that they are planar\n",
      "Warning message:\n",
      "\"Factor `prec_2012` contains implicit NA, consider using `forcats::fct_explicit_na`\"Warning message:\n",
      "\"Factor `prec_2012` contains implicit NA, consider using `forcats::fct_explicit_na`\"although coordinates are longitude/latitude, st_intersects assumes that they are planar\n",
      "Warning message:\n",
      "\"Factor `prec_2012` contains implicit NA, consider using `forcats::fct_explicit_na`\"Warning message:\n",
      "\"Factor `prec_2012` contains implicit NA, consider using `forcats::fct_explicit_na`\"Warning message in `[<-.factor`(`*tmp*`, thisvar, value = 0):\n",
      "\"invalid factor level, NA generated\""
     ]
    },
    {
     "name": "stdout",
     "output_type": "stream",
     "text": [
      "Writing layer `SF_prcnts_vars' to data source `Data/SF/ProcessedData/SF_prcnts_vars.shp' using driver `ESRI Shapefile'\n",
      "Writing 604 features with 6 fields and geometry type Unknown (any).\n"
     ]
    }
   ],
   "source": [
    "#Running our function for san francisco\n",
    "SF_prcnts_vars <- SF_trct_varsfunc(SF_prcnts, SF_trees, SF_crime, SF_streetlights, SF_trashcans)\n",
    "#Save file\n",
    "st_write(SF_prcnts_vars, \"Data/SF/ProcessedData/SF_prcnts_vars.shp\")"
   ]
  },
  {
   "cell_type": "markdown",
   "metadata": {},
   "source": [
    "#### Minimizing error and normalizing our data\n",
    "\n",
    "Because census tracts all differ in sizes, it's easy to misrepresent the intensity of our variables. In order to avoid this, we first need to normalize our variables by area. For each variable, we divide the row values by the tract area.\n",
    "\n",
    "Next, we also need to normalize our variables so that they can be compared among eachother. For this we will use R's standardize function, which will put all variables on the same scale."
   ]
  },
  {
   "cell_type": "code",
   "execution_count": 109,
   "metadata": {},
   "outputs": [
    {
     "name": "stdout",
     "output_type": "stream",
     "text": [
      "Reading layer `SF_prcnts_vars' from data source `C:\\Users\\Leonardo\\Documents\\TU_Delft\\EPA_Year1\\EPA1315\\FinalProject\\Data\\SF\\ProcessedData\\SF_prcnts_vars.shp' using driver `ESRI Shapefile'\n",
      "Simple feature collection with 604 features and 6 fields\n",
      "geometry type:  MULTIPOLYGON\n",
      "dimension:      XY\n",
      "bbox:           xmin: -122.5149 ymin: 37.70813 xmax: -122.3279 ymax: 37.83243\n",
      "epsg (SRID):    4326\n",
      "proj4string:    +proj=longlat +datum=WGS84 +no_defs\n",
      "Reading layer `SF_prcnts_vars_norm' from data source `C:\\Users\\Leonardo\\Documents\\TU_Delft\\EPA_Year1\\EPA1315\\FinalProject\\Data\\SF\\ProcessedData\\SF_prcnts_vars_norm.shp' using driver `ESRI Shapefile'\n",
      "Simple feature collection with 604 features and 7 fields\n",
      "geometry type:  MULTIPOLYGON\n",
      "dimension:      XY\n",
      "bbox:           xmin: -122.5149 ymin: 37.70813 xmax: -122.3279 ymax: 37.83243\n",
      "epsg (SRID):    4326\n",
      "proj4string:    +proj=longlat +datum=WGS84 +no_defs\n"
     ]
    }
   ],
   "source": [
    "#####Start over point\n",
    "SF_prcnts_vars <- st_read(\"Data/SF/ProcessedData/SF_prcnts_vars.shp\")\n",
    "SF_prcnts_vars_norm <- st_read(\"Data/SF/ProcessedData/SF_prcnts_vars_norm.shp\")"
   ]
  },
  {
   "cell_type": "code",
   "execution_count": 82,
   "metadata": {},
   "outputs": [
    {
     "name": "stderr",
     "output_type": "stream",
     "text": [
      "Warning message:\n",
      "\"Factor `prec_2012` contains implicit NA, consider using `forcats::fct_explicit_na`\""
     ]
    }
   ],
   "source": [
    "#First we calculate the area of each tract in km2\n",
    "SF_prcnts_vars$km2 <- as.numeric((st_area(SF_prcnts_vars)/1000000))\n",
    "#Next we divide each variable by the tract area\n",
    "SF_prcnts_vars$crimecount <- SF_prcnts_vars$crimecount/SF_prcnts_vars$km2\n",
    "SF_prcnts_vars$lightcount <- SF_prcnts_vars$lightcount/SF_prcnts_vars$km2\n",
    "SF_prcnts_vars$trashcount <- SF_prcnts_vars$trashcount/SF_prcnts_vars$km2\n",
    "SF_prcnts_vars$treecount <- SF_prcnts_vars$treecount/SF_prcnts_vars$km2\n",
    "#Reorder dataframe\n",
    "SF_prcnts_vars <- SF_prcnts_vars[,c('treecount','crimecount','lightcount','trashcount', 'neighrep', 'prec_2012', 'geometry', 'km2')]\n",
    "#Save file\n",
    "st_write(SF_prcnts_vars, \"Data/SF/ProcessedData/SF_prcnts_vars_norm.shp\")"
   ]
  },
  {
   "cell_type": "code",
   "execution_count": null,
   "metadata": {},
   "outputs": [],
   "source": []
  },
  {
   "cell_type": "code",
   "execution_count": null,
   "metadata": {},
   "outputs": [],
   "source": []
  },
  {
   "cell_type": "code",
   "execution_count": null,
   "metadata": {},
   "outputs": [],
   "source": []
  },
  {
   "cell_type": "code",
   "execution_count": null,
   "metadata": {},
   "outputs": [],
   "source": []
  },
  {
   "cell_type": "code",
   "execution_count": null,
   "metadata": {},
   "outputs": [],
   "source": [
    "#######TO DO\n",
    "#finally, we normalize our variables from 0 to 1\n",
    "##create normalize function \n",
    "normalize <- function(x) {\n",
    "    return ((x - min(x)) / (max(x) - min(x)))\n",
    "  }\n",
    "#we apply it to our data\n",
    "SF_trcts_vars_norm <- as.data.frame(SF_trcts_vars[1:4])\n",
    "head(SF_trcts_vars_norm)"
   ]
  },
  {
   "cell_type": "markdown",
   "metadata": {},
   "source": [
    "### 1.2 Los Angeles"
   ]
  },
  {
   "cell_type": "code",
   "execution_count": 27,
   "metadata": {},
   "outputs": [
    {
     "name": "stdout",
     "output_type": "stream",
     "text": [
      "Reading layer `geo_export_179d7440-79b6-4137-b1d8-8ff5286a9b47' from data source `C:\\Users\\Leonardo\\Documents\\TU_Delft\\EPA_Year1\\EPA1315\\FinalProject\\Data\\LA\\StreetLights\\geo_export_179d7440-79b6-4137-b1d8-8ff5286a9b47.shp' using driver `ESRI Shapefile'\n",
      "Simple feature collection with 216694 features and 11 fields\n",
      "geometry type:  POINT\n",
      "dimension:      XY\n",
      "bbox:           xmin: -118.6681 ymin: 33.70677 xmax: -118.1551 ymax: 34.33452\n",
      "epsg (SRID):    4326\n",
      "proj4string:    +proj=longlat +ellps=WGS84 +no_defs\n",
      "Reading layer `LA_City_Receptacles' from data source `C:\\Users\\Leonardo\\Documents\\TU_Delft\\EPA_Year1\\EPA1315\\FinalProject\\Data\\LA\\TrashCans\\LA_City_Receptacles.shp' using driver `ESRI Shapefile'\n",
      "Simple feature collection with 9713 features and 10 fields\n",
      "geometry type:  POINT\n",
      "dimension:      XY\n",
      "bbox:           xmin: -118.657 ymin: 33.70693 xmax: -118.1555 ymax: 34.32207\n",
      "epsg (SRID):    4326\n",
      "proj4string:    +proj=longlat +datum=WGS84 +no_defs\n",
      "Reading layer `output' from data source `C:\\Users\\Leonardo\\Documents\\TU_Delft\\EPA_Year1\\EPA1315\\FinalProject\\Data\\LA\\Trees\\output.shp' using driver `ESRI Shapefile'\n",
      "Simple feature collection with 635558 features and 5 fields\n",
      "geometry type:  POINT\n",
      "dimension:      XY\n",
      "bbox:           xmin: -118.6681 ymin: 33.70627 xmax: -118.1556 ymax: 34.33334\n",
      "epsg (SRID):    4326\n",
      "proj4string:    +proj=longlat +datum=WGS84 +no_defs\n",
      "Reading layer `Neighborhood_Council_Boundaries_2018' from data source `C:\\Users\\Leonardo\\Documents\\TU_Delft\\EPA_Year1\\EPA1315\\FinalProject\\Data\\LA\\CensusTracts\\Neighborhood_Council_Boundaries_2018.shp' using driver `ESRI Shapefile'\n",
      "Simple feature collection with 96 features and 21 fields\n",
      "geometry type:  MULTIPOLYGON\n",
      "dimension:      XY\n",
      "bbox:           xmin: -118.6682 ymin: 33.70374 xmax: -117.6574 ymax: 34.91416\n",
      "epsg (SRID):    4326\n",
      "proj4string:    +proj=longlat +datum=WGS84 +no_defs\n"
     ]
    }
   ],
   "source": [
    "#Now let's import data for Los Angeles\n",
    "#Open LA public streetlights\n",
    "LA_streetlights <- st_read(\"Data/LA/StreetLights/geo_export_179d7440-79b6-4137-b1d8-8ff5286a9b47.shp\")\n",
    "#Open LA trashcans\n",
    "LA_trashcans <- st_read(\"Data/LA/TrashCans/LA_City_Receptacles.shp\")\n",
    "#Open LA trees\n",
    "LA_trees <- st_read(\"Data/LA/Trees/output.shp\")\n",
    "#Open LA precincts\n",
    "LA_prcnts <- st_read(\"Data/LA/Precincts/geo_export_bc1bd767-83ec-499a-98e7-5fdacb39b78c.shp\")\n",
    "#Open LA census tracts\n",
    "LA_trcts <- st_read(\"Data/LA/CensusTracts/Neighborhood_Council_Boundaries_2018.shp\")\n",
    "#Open LA crime\n",
    "LA_crime <- read_csv(\"Data/LA/Crime/Crime_Data_from_2010_to_Present.csv\")"
   ]
  },
  {
   "cell_type": "code",
   "execution_count": 25,
   "metadata": {},
   "outputs": [
    {
     "name": "stderr",
     "output_type": "stream",
     "text": [
      "Warning message in abbreviate_shapefile_names(obj):\n",
      "\"Field names abbreviated for ESRI Shapefile driver\""
     ]
    },
    {
     "name": "stdout",
     "output_type": "stream",
     "text": [
      "Writing layer `Crime_Data_from_2018_to_Present' to data source `Data/LA/Crime/Crime_Data_from_2018_to_Present.shp' using driver `ESRI Shapefile'\n",
      "Writing 402802 features with 29 fields and geometry type Point.\n"
     ]
    }
   ],
   "source": [
    "#subset LA_crime for 2018 and onwards\n",
    "LA_crime <- LA_crime %>% separate('DATE OCC', into = paste0('DATE OCC', 1:4), sep = '[/ ]')\n",
    "LA_crime <- subset(LA_crime, LA_crime['DATE OCC3'] == '2018' | LA_crime['DATE OCC3'] == '2019')\n",
    "\n",
    "#Convert crime csv to geospatial object\n",
    "LA_crime <- st_as_sf(LA_crime, coords = c(\"LON\", \"LAT\"), \n",
    "                 crs = 4326, agr = \"constant\")\n",
    "\n",
    "st_write(LA_crime,'Data/LA/Crime/Crime_Data_from_2018_to_Present.shp')"
   ]
  },
  {
   "cell_type": "code",
   "execution_count": 85,
   "metadata": {},
   "outputs": [
    {
     "data": {
      "text/plain": [
       "Coordinate Reference System:\n",
       "  EPSG: 4326 \n",
       "  proj4string: \"+proj=longlat +datum=WGS84 +no_defs\""
      ]
     },
     "metadata": {},
     "output_type": "display_data"
    },
    {
     "data": {
      "text/plain": [
       "Coordinate Reference System:\n",
       "  EPSG: 4326 \n",
       "  proj4string: \"+proj=longlat +datum=WGS84 +no_defs\""
      ]
     },
     "metadata": {},
     "output_type": "display_data"
    },
    {
     "data": {
      "text/plain": [
       "Coordinate Reference System:\n",
       "  EPSG: 4326 \n",
       "  proj4string: \"+proj=longlat +datum=WGS84 +no_defs\""
      ]
     },
     "metadata": {},
     "output_type": "display_data"
    },
    {
     "data": {
      "text/plain": [
       "Coordinate Reference System:\n",
       "  EPSG: 4326 \n",
       "  proj4string: \"+proj=longlat +datum=WGS84 +no_defs\""
      ]
     },
     "metadata": {},
     "output_type": "display_data"
    },
    {
     "data": {
      "text/plain": [
       "Coordinate Reference System:\n",
       "  EPSG: 4326 \n",
       "  proj4string: \"+proj=longlat +datum=WGS84 +no_defs\""
      ]
     },
     "metadata": {},
     "output_type": "display_data"
    },
    {
     "data": {
      "text/plain": [
       "Coordinate Reference System:\n",
       "  EPSG: 4326 \n",
       "  proj4string: \"+proj=longlat +datum=WGS84 +no_defs\""
      ]
     },
     "metadata": {},
     "output_type": "display_data"
    }
   ],
   "source": [
    "#Reproject streetlights and precincts to common coordinate system\n",
    "LA_streetlights <- st_transform(LA_streetlights, \"+proj=longlat +datum=WGS84 +no_defs\")\n",
    "LA_prcnts <- st_transform(LA_prcnts, \"+proj=longlat +datum=WGS84 +no_defs\")\n",
    "#Check that all spatial layers are in the same coordinate system\n",
    "st_crs(LA_streetlights)\n",
    "st_crs(LA_trashcans)\n",
    "st_crs(LA_trees)\n",
    "st_crs(LA_trcts)\n",
    "st_crs(LA_prcnts)\n",
    "st_crs(LA_crime)"
   ]
  },
  {
   "cell_type": "code",
   "execution_count": 86,
   "metadata": {},
   "outputs": [],
   "source": [
    "#Now let's clean up our layers to include only columns of interest\n",
    "#Tracts layer\n",
    "LA_trcts <- select(LA_trcts, 'Name', 'geometry')\n",
    "LA_prcnts <- select(LA_prcnts, 'cnsld', 'geometry')\n",
    "#Trashcans\n",
    "LA_trashcans <- select(LA_trashcans, 'LAPDGrid', 'geometry')\n",
    "LA_trashcans$trashcount <- 1\n",
    "#Streetlights\n",
    "LA_streetlights <- select(LA_streetlights, 'stlid', 'geometry')\n",
    "LA_streetlights$lightcount <- 1\n",
    "#Trees\n",
    "LA_trees <- select(LA_trees, 'TreeID', 'geometry')\n",
    "LA_trees$treecount <- 1\n",
    "#Crime\n",
    "LA_crime <- select(LA_crime, 'Date Rptd','geometry')\n",
    "LA_crime$crimecount <- 1"
   ]
  },
  {
   "cell_type": "code",
   "execution_count": 87,
   "metadata": {},
   "outputs": [],
   "source": [
    "#let's write a function that takes in all the variables, perform spatial joins on points inside census tracts, and summarizes by census tract \n",
    "LA_prcnts_varsfunc <- function(geom, var1, var2, var3, var4) {\n",
    "    #var1=trees; var2=crime; var3=streetlights; var4=trashcans\n",
    "    \n",
    "    #Join first variable\n",
    "    SF_trcts_var1 <- st_join(geom, left = TRUE, var1[length(var1)])\n",
    "    SF_trcts_var1 <- group_by(SF_trcts_var1, cnsld)\n",
    "    SF_trcts_var1 <- summarise(SF_trcts_var1, treecount = sum(treecount))\n",
    "    #Join second variable\n",
    "    SF_trcts_var12 <- st_join(SF_trcts_var1, left = TRUE, var2[length(var2)])\n",
    "    SF_trcts_var12 <- group_by(SF_trcts_var12, cnsld, treecount)\n",
    "    SF_trcts_var12 <- summarise(SF_trcts_var12, crimecount = sum(crimecount))\n",
    "    #Join third variable\n",
    "    SF_trcts_var123 <- st_join(SF_trcts_var12, left = TRUE, var3[length(var3)])\n",
    "    SF_trcts_var123 <- group_by(SF_trcts_var123, cnsld, treecount, crimecount)\n",
    "    SF_trcts_var123 <- summarise(SF_trcts_var123, lightcount = sum(lightcount))\n",
    "    #Join fourth variable\n",
    "    SF_trcts_var1234 <- st_join(SF_trcts_var123, left = TRUE, var4[length(var4)])\n",
    "    SF_trcts_var1234 <- group_by(SF_trcts_var1234, cnsld, treecount, crimecount, lightcount)\n",
    "    SF_trcts_var1234 <- summarise(SF_trcts_var1234, trashcount = sum(trashcount))\n",
    "\n",
    "    #Replace NA values with 0 (meaning that the count for a given var is 0 if there was no point within a polygon)\n",
    "    SF_trcts_var1234[is.na(SF_trcts_var1234)] <- 0\n",
    "    SF_trcts_vars <- SF_trcts_var1234\n",
    "   return(SF_trcts_vars)\n",
    "}"
   ]
  },
  {
   "cell_type": "code",
   "execution_count": 88,
   "metadata": {},
   "outputs": [
    {
     "name": "stderr",
     "output_type": "stream",
     "text": [
      "although coordinates are longitude/latitude, st_intersects assumes that they are planar\n",
      "although coordinates are longitude/latitude, st_intersects assumes that they are planar\n",
      "although coordinates are longitude/latitude, st_intersects assumes that they are planar\n",
      "although coordinates are longitude/latitude, st_intersects assumes that they are planar\n"
     ]
    },
    {
     "name": "stdout",
     "output_type": "stream",
     "text": [
      "Writing layer `LA_prcnts_vars' to data source `Data/LA/ProcessedData/LA_prcnts_vars.shp' using driver `ESRI Shapefile'\n",
      "Writing 1627 features with 5 fields and geometry type Multi Polygon.\n"
     ]
    }
   ],
   "source": [
    "#Running our spatial join function for Los Angeles\n",
    "LA_prcnts_vars <- LA_prcnts_varsfunc(LA_prcnts, LA_trees, LA_crime, LA_streetlights, LA_trashcans)\n",
    "#Save file\n",
    "st_write(LA_prcnts_vars, \"Data/LA/ProcessedData/LA_prcnts_vars.shp\")"
   ]
  },
  {
   "cell_type": "markdown",
   "metadata": {},
   "source": [
    "#### Minimizing error and normalizing our data"
   ]
  },
  {
   "cell_type": "code",
   "execution_count": 89,
   "metadata": {},
   "outputs": [
    {
     "name": "stdout",
     "output_type": "stream",
     "text": [
      "Writing layer `LA_prcnts_vars_norm' to data source `Data/LA/ProcessedData/LA_prcnts_vars_norm.shp' using driver `ESRI Shapefile'\n",
      "Writing 1627 features with 6 fields and geometry type Multi Polygon.\n"
     ]
    }
   ],
   "source": [
    "#First we calculate the area of each tract in km2\n",
    "LA_prcnts_vars$km2 <- as.numeric((st_area(LA_prcnts_vars)/1000000))\n",
    "#Next we divide each variable by the tract area\n",
    "LA_prcnts_vars$crimecount <- LA_prcnts_vars$crimecount/LA_prcnts_vars$km2\n",
    "LA_prcnts_vars$lightcount <- LA_prcnts_vars$lightcount/LA_prcnts_vars$km2\n",
    "LA_prcnts_vars$trashcount <- LA_prcnts_vars$trashcount/LA_prcnts_vars$km2\n",
    "LA_prcnts_vars$treecount <- LA_prcnts_vars$treecount/LA_prcnts_vars$km2\n",
    "#Reorder dataframe\n",
    "LA_prcnts_vars <- LA_prcnts_vars[,c('treecount','crimecount','lightcount','trashcount', 'cnsld', 'geometry', 'km2')]\n",
    "#Save file\n",
    "st_write(LA_prcnts_vars, \"Data/LA/ProcessedData/LA_prcnts_vars_norm.shp\")"
   ]
  },
  {
   "cell_type": "markdown",
   "metadata": {},
   "source": [
    "### 1.3 Philadelphia"
   ]
  },
  {
   "cell_type": "code",
   "execution_count": 3,
   "metadata": {},
   "outputs": [
    {
     "name": "stdout",
     "output_type": "stream",
     "text": [
      "Reading layer `Street_Poles' from data source `C:\\Users\\Carol\\Documents\\EPA 2019-2020\\EPA1315\\EPA1315_Assignments\\EPA1315_FinalProject\\EPA1315_FinalProject_Work\\Data\\Philadelphia\\StreetLights\\Street_Poles.shp' using driver `ESRI Shapefile'\n",
      "Simple feature collection with 194750 features and 13 fields\n",
      "geometry type:  POINT\n",
      "dimension:      XY\n",
      "bbox:           xmin: -75.28108 ymin: 39.87517 xmax: -74.95891 ymax: 40.13786\n",
      "epsg (SRID):    4326\n",
      "proj4string:    +proj=longlat +datum=WGS84 +no_defs\n",
      "Reading layer `wastebaskets_big_belly' from data source `C:\\Users\\Carol\\Documents\\EPA 2019-2020\\EPA1315\\EPA1315_Assignments\\EPA1315_FinalProject\\EPA1315_FinalProject_Work\\Data\\Philadelphia\\TrashCans\\wastebaskets_big_belly.shp' using driver `ESRI Shapefile'\n",
      "Simple feature collection with 968 features and 4 fields\n",
      "geometry type:  POINT\n",
      "dimension:      XY\n",
      "bbox:           xmin: -75.27019 ymin: 39.91666 xmax: -75.03349 ymax: 40.0744\n",
      "epsg (SRID):    4326\n",
      "proj4string:    +proj=longlat +datum=WGS84 +no_defs\n",
      "Reading layer `WasteBaskets_Wire' from data source `C:\\Users\\Carol\\Documents\\EPA 2019-2020\\EPA1315\\EPA1315_Assignments\\EPA1315_FinalProject\\EPA1315_FinalProject_Work\\Data\\Philadelphia\\TrashCans\\WasteBaskets_Wire.shp' using driver `ESRI Shapefile'\n",
      "Simple feature collection with 352 features and 3 fields\n",
      "geometry type:  POINT\n",
      "dimension:      XY\n",
      "bbox:           xmin: -75.24303 ymin: 39.91937 xmax: -75.02811 ymax: 40.07613\n",
      "epsg (SRID):    4326\n",
      "proj4string:    +proj=longlat +datum=WGS84 +no_defs\n",
      "Reading layer `PPR_StreetTrees' from data source `C:\\Users\\Carol\\Documents\\EPA 2019-2020\\EPA1315\\EPA1315_Assignments\\EPA1315_FinalProject\\EPA1315_FinalProject_Work\\Data\\Philadelphia\\Trees\\PPR_StreetTrees.shp' using driver `ESRI Shapefile'\n",
      "Simple feature collection with 111993 features and 4 fields\n",
      "geometry type:  POINT\n",
      "dimension:      XY\n",
      "bbox:           xmin: -75.29749 ymin: 39.87698 xmax: -74.95878 ymax: 40.13745\n",
      "epsg (SRID):    4326\n",
      "proj4string:    +proj=longlat +datum=WGS84 +no_defs\n",
      "Reading layer `Political_Divisions' from data source `C:\\Users\\Carol\\Documents\\EPA 2019-2020\\EPA1315\\EPA1315_Assignments\\EPA1315_FinalProject\\EPA1315_FinalProject_Work\\Data\\Philadelphia\\Precincts\\Political_Divisions.shp' using driver `ESRI Shapefile'\n",
      "Simple feature collection with 1703 features and 5 fields\n",
      "geometry type:  POLYGON\n",
      "dimension:      XY\n",
      "bbox:           xmin: -75.28031 ymin: 39.86748 xmax: -74.95574 ymax: 40.13793\n",
      "epsg (SRID):    4326\n",
      "proj4string:    +proj=longlat +datum=WGS84 +no_defs\n",
      "Reading layer `incidents_part1_part2' from data source `C:\\Users\\Carol\\Documents\\EPA 2019-2020\\EPA1315\\EPA1315_Assignments\\EPA1315_FinalProject\\EPA1315_FinalProject_Work\\Data\\Philadelphia\\Crime\\incidents_part1_part2.shp' using driver `ESRI Shapefile'\n",
      "replacing null geometries with empty geometries\n",
      "Simple feature collection with 2675732 features and 13 fields (with 20993 geometries empty)\n",
      "geometry type:  POINT\n",
      "dimension:      XY\n",
      "bbox:           xmin: -75.27773 ymin: 39.86999 xmax: -74.9575 ymax: 40.13789\n",
      "epsg (SRID):    4326\n",
      "proj4string:    +proj=longlat +datum=WGS84 +no_defs\n"
     ]
    }
   ],
   "source": [
    "#Now let's import data for Philadelphia\n",
    "#Open Philadelphia public streetlights\n",
    "PH_streetlights <- st_read(\"Data/Philadelphia/StreetLights/Street_Poles.shp\")\n",
    "#Open Philadelphia trashcans - Big Belly\n",
    "PH_trashcans_bb <- st_read(\"Data/Philadelphia/TrashCans/wastebaskets_big_belly.shp\")\n",
    "#Open Philadelphia trashcans - Wire\n",
    "PH_trashcans_w <- st_read(\"Data/Philadelphia/TrashCans/WasteBaskets_Wire.shp\")\n",
    "#Open Philadelphia trees\n",
    "PH_trees <- st_read(\"Data/Philadelphia/Trees/PPR_StreetTrees.shp\")\n",
    "#Open Philadelphia precincts\n",
    "PH_prcnts <- st_read(\"Data/Philadelphia/Precincts/Political_Divisions.shp\")\n",
    "#Open Philadelphia crime\n",
    "PH_crime <- st_read(\"Data/Philadelphia/Crime/incidents_part1_part2.shp\")"
   ]
  },
  {
   "cell_type": "code",
   "execution_count": null,
   "metadata": {},
   "outputs": [],
   "source": [
    "#Subset PH_crime for 2018 and onwards\n",
    "PH_crime <-  PH_crime[PH_crime$dispatch_d > as.Date(\"2018-01-01\"),]\n",
    "\n",
    "st_write(PH_crime,'Data/Philadelphia/Crime/Crime_Data_from_2018_to_Present.shp')"
   ]
  },
  {
   "cell_type": "code",
   "execution_count": null,
   "metadata": {},
   "outputs": [],
   "source": [
    "#Check that all spatial layers are in the same coordinate system\n",
    "st_crs(PH_prcnts)\n",
    "st_crs(PH_crime)\n",
    "st_crs(PH_trees)\n",
    "st_crs(PH_trashcans_bb)\n",
    "st_crs(PH_trashcans_w)\n",
    "st_crs(PH_streetlights)"
   ]
  },
  {
   "cell_type": "code",
   "execution_count": null,
   "metadata": {},
   "outputs": [],
   "source": [
    "#Now let's clean up our layers to include only columns of interest\n",
    "#Precincts layer\n",
    "PH_prcnts <- select(PH_prcnts, 'DIVISION_N', 'geometry')\n",
    "#Merge big belly and wire trashcans\n",
    "PH_trashcans <- rbind(select(PH_trashcans_bb, 'geometry'), select(PH_trashcans_w, 'geometry'))\n",
    "PH_trashcans$trashcount <- 1\n",
    "#Streetlights\n",
    "PH_streetlights <- select(PH_streetlights, 'POLE_NUM', 'geometry')\n",
    "PH_streetlights$lightcount <- 1\n",
    "#Trees\n",
    "PH_trees <- select(PH_trees, 'OBJECTID', 'geometry')\n",
    "PH_trees$treecount <- 1\n",
    "#Crime\n",
    "PH_crime <- select(PH_crime, 'dispatch_d','geometry')\n",
    "PH_crime$crimecount <- 1"
   ]
  },
  {
   "cell_type": "code",
   "execution_count": 35,
   "metadata": {},
   "outputs": [],
   "source": [
    "#Let's write a function that takes in all the variables, perform spatial joins on points inside census tracts, and summarizes by census tract \n",
    "PH_prcnts_varsfunc <- function(geom, var1, var2, var3, var4) {\n",
    "    #var1=trees; var2=crime; var3=streetlights; var4=trashcans\n",
    "    \n",
    "    #Join first variable\n",
    "    SF_trcts_var1 <- st_join(geom, left = TRUE, var1[length(var1)])\n",
    "    SF_trcts_var1 <- group_by(SF_trcts_var1, DIVISION_N)\n",
    "    SF_trcts_var1 <- summarise(SF_trcts_var1, treecount = sum(treecount))\n",
    "    #join second variable\n",
    "    SF_trcts_var12 <- st_join(SF_trcts_var1, left = TRUE, var2[length(var2)])\n",
    "    SF_trcts_var12 <- group_by(SF_trcts_var12, DIVISION_N, treecount)\n",
    "    SF_trcts_var12 <- summarise(SF_trcts_var12, crimecount = sum(crimecount))\n",
    "    #join third variable\n",
    "    SF_trcts_var123 <- st_join(SF_trcts_var12, left = TRUE, var3[length(var3)])\n",
    "    SF_trcts_var123 <- group_by(SF_trcts_var123, DIVISION_N, treecount, crimecount)\n",
    "    SF_trcts_var123 <- summarise(SF_trcts_var123, lightcount = sum(lightcount))\n",
    "    #join fourth variable\n",
    "    SF_trcts_var1234 <- st_join(SF_trcts_var123, left = TRUE, var4[length(var4)])\n",
    "    SF_trcts_var1234 <- group_by(SF_trcts_var1234, DIVISION_N, treecount, crimecount, lightcount)\n",
    "    SF_trcts_var1234 <- summarise(SF_trcts_var1234, trashcount = sum(trashcount))\n",
    "\n",
    "    #Replace NA values with 0 (meaning that the count for a given var is 0 if there was no point within a polygon)\n",
    "    SF_trcts_var1234[is.na(SF_trcts_var1234)] <- 0\n",
    "    SF_trcts_vars <- SF_trcts_var1234\n",
    "   return(SF_trcts_vars)\n",
    "}"
   ]
  },
  {
   "cell_type": "code",
   "execution_count": null,
   "metadata": {},
   "outputs": [],
   "source": [
    "#Running our spatial join function for Philadelphia\n",
    "PH_prcnts_vars <- PH_prcnts_varsfunc(PH_prcnts, PH_trees, PH_crime, PH_streetlights, PH_trashcans)\n",
    "#Save file\n",
    "st_write(PH_prcnts_vars, \"Data/Philadelphia/ProcessedData/PH_prcnts_vars.shp\")"
   ]
  },
  {
   "cell_type": "code",
   "execution_count": 6,
   "metadata": {},
   "outputs": [
    {
     "ename": "ERROR",
     "evalue": "Error in st_area(PH_prcnts_vars): object 'PH_prcnts_vars' not found\n",
     "output_type": "error",
     "traceback": [
      "Error in st_area(PH_prcnts_vars): object 'PH_prcnts_vars' not found\nTraceback:\n",
      "1. st_area(PH_prcnts_vars)"
     ]
    }
   ],
   "source": [
    "#First we calculate the area of each tract in km2\n",
    "PH_prcnts_vars$km2 <- as.numeric((st_area(PH_prcnts_vars)/1000000))\n",
    "#Next we divide each variable by the tract area\n",
    "PH_prcnts_vars$crimecount <- PH_prcnts_vars$crimecount/PH_prcnts_vars$km2\n",
    "PH_prcnts_vars$lightcount <- PH_prcnts_vars$lightcount/PH_prcnts_vars$km2\n",
    "PH_prcnts_vars$trashcount <- PH_prcnts_vars$trashcount/PH_prcnts_vars$km2\n",
    "PH_prcnts_vars$treecount <- PH_prcnts_vars$treecount/PH_prcnts_vars$km2\n",
    "#Reorder dataframe\n",
    "PH_prcnts_vars <- PH_prcnts_vars[,c('treecount','crimecount','lightcount','trashcount', 'DIVISION_N', 'geometry', 'km2')]\n",
    "#Save file\n",
    "st_write(PH_prcnts_vars, \"Data/Philadelphia/ProcessedData/PH_prcnts_vars_norm.shp\")"
   ]
  },
  {
   "cell_type": "markdown",
   "metadata": {},
   "source": [
    "### 1.4 Washington DC"
   ]
  },
  {
   "cell_type": "code",
   "execution_count": 8,
   "metadata": {},
   "outputs": [
    {
     "name": "stdout",
     "output_type": "stream",
     "text": [
      "Reading layer `Street_Lights' from data source `C:\\Users\\Carol\\Documents\\EPA 2019-2020\\EPA1315\\EPA1315_Assignments\\EPA1315_FinalProject\\EPA1315_FinalProject_Work\\Data\\DC\\StreetLights\\Street_Lights.shp' using driver `ESRI Shapefile'\n",
      "Simple feature collection with 70829 features and 50 fields\n",
      "geometry type:  POINT\n",
      "dimension:      XY\n",
      "bbox:           xmin: -77.11656 ymin: 38.80571 xmax: -76.90958 ymax: 38.99534\n",
      "epsg (SRID):    4326\n",
      "proj4string:    +proj=longlat +datum=WGS84 +no_defs\n",
      "Reading layer `Litter_Cans' from data source `C:\\Users\\Carol\\Documents\\EPA 2019-2020\\EPA1315\\EPA1315_Assignments\\EPA1315_FinalProject\\EPA1315_FinalProject_Work\\Data\\DC\\TrashCans\\Litter_Cans.shp' using driver `ESRI Shapefile'\n",
      "Simple feature collection with 6703 features and 22 fields\n",
      "geometry type:  POINT\n",
      "dimension:      XY\n",
      "bbox:           xmin: -77.11191 ymin: 38.81882 xmax: -76.91069 ymax: 38.9916\n",
      "epsg (SRID):    4326\n",
      "proj4string:    +proj=longlat +datum=WGS84 +no_defs\n",
      "Reading layer `Urban_Forestry_Street_Trees' from data source `C:\\Users\\Carol\\Documents\\EPA 2019-2020\\EPA1315\\EPA1315_Assignments\\EPA1315_FinalProject\\EPA1315_FinalProject_Work\\Data\\DC\\Trees\\Urban_Forestry_Street_Trees.shp' using driver `ESRI Shapefile'\n",
      "replacing null geometries with empty geometries\n",
      "Simple feature collection with 187735 features and 35 fields (with 2 geometries empty)\n",
      "geometry type:  POINT\n",
      "dimension:      XY\n",
      "bbox:           xmin: -81.52025 ymin: 37.58328 xmax: -76.90923 ymax: 38.99593\n",
      "epsg (SRID):    4326\n",
      "proj4string:    +proj=longlat +datum=WGS84 +no_defs\n"
     ]
    },
    {
     "ename": "ERROR",
     "evalue": "Error: Cannot open \"Data/DC/Precincts/Voting_Precinct__2012.shp\"; The file doesn't seem to exist.\n",
     "output_type": "error",
     "traceback": [
      "Error: Cannot open \"Data/DC/Precincts/Voting_Precinct__2012.shp\"; The file doesn't seem to exist.\nTraceback:\n",
      "1. st_read(\"Data/DC/Precincts/Voting_Precinct__2012.shp\")",
      "2. st_read.character(\"Data/DC/Precincts/Voting_Precinct__2012.shp\")",
      "3. CPL_read_ogr(dsn, layer, query, as.character(options), quiet, \n .     type, fid_column_name, drivers, promote_to_multi, int64_as_string, \n .     dsn_exists, dsn_isdb)"
     ]
    }
   ],
   "source": [
    "#Now let's import data for Washington DC\n",
    "#Open DC public streetlights\n",
    "DC_streetlights <- st_read(\"Data/DC/StreetLights/Street_Lights.shp\")\n",
    "#open DC trashcans\n",
    "DC_trashcans <- st_read(\"Data/DC/TrashCans/Litter_Cans.shp\")\n",
    "#open DC trees\n",
    "DC_trees <- st_read(\"Data/DC/Trees/Urban_Forestry_Street_Trees.shp\")\n",
    "#open DC census blocks\n",
    "#DC_blocks <- st_read(\"Data/DC/CensusBlocks/Census_Blocks__2010.shp\")\n",
    "#open DC precincts\n",
    "DC_prcnts <- st_read(\"Data/DC/Precincts/Voting_Precinct__2012.shp\")\n",
    "#open DC crime\n",
    "DC_crime_2018 <- st_read(\"Data/DC/Crime/Crime_Incidents_in_2018.shp\")\n",
    "DC_crime_2019 <- st_read(\"Data/DC/Crime/Crime_Incidents_in_2019.shp\")"
   ]
  },
  {
   "cell_type": "code",
   "execution_count": 51,
   "metadata": {},
   "outputs": [],
   "source": [
    "#Now let's clean up our layers to include only columns of interest\n",
    "#Census blocks layer                                \n",
    "DC_blocks <- select(DC_blocks, 'GEOID', 'geometry')\n",
    "#Precincts layer\n",
    "DC_prcnts <- select(DC_prcnts, 'NAME', 'geometry')\n",
    "#Merge big belly and wire trashcans\n",
    "DC_trashcans <- select(DC_trashcans, 'LITTERID', 'geometry')\n",
    "DC_trashcans$trashcount <- 1\n",
    "#Streetlights\n",
    "DC_streetlights <- select(DC_streetlights, 'WARD', 'geometry')\n",
    "DC_streetlights$lightcount <- 1\n",
    "#Trees\n",
    "DC_trees <- select(DC_trees, 'WARD', 'geometry')\n",
    "DC_trees$treecount <- 1\n",
    "#Crime\n",
    "#Merge DC_crime_2018 and 2019\n",
    "DC_crime <-  rbind(select(DC_crime_2018, 'WARD', 'geometry'), select(DC_crime_2018, 'WARD', 'geometry'))\n",
    "DC_crime$crimecount <- 1"
   ]
  },
  {
   "cell_type": "code",
   "execution_count": 206,
   "metadata": {},
   "outputs": [],
   "source": [
    "#Let's write a function that takes in all the variables, perform spatial joins on points inside census tracts, and summarizes by census tract \n",
    "DC_prcnts_varsfunc <- function(geom, var1, var2, var3, var4) {\n",
    "    #var1=trees; var2=crime; var3=streetlights; var4=trashcans\n",
    "    \n",
    "    #Join first variable\n",
    "    SF_trcts_var1 <- st_join(geom, left = TRUE, var1[length(var1)])\n",
    "    SF_trcts_var1 <- group_by(SF_trcts_var1, NAME)\n",
    "    SF_trcts_var1 <- summarise(SF_trcts_var1, treecount = sum(treecount))\n",
    "    #Join second variable\n",
    "    SF_trcts_var12 <- st_join(SF_trcts_var1, left = TRUE, var2[length(var2)])\n",
    "    SF_trcts_var12 <- group_by(SF_trcts_var12, NAME, treecount)\n",
    "    SF_trcts_var12 <- summarise(SF_trcts_var12, crimecount = sum(crimecount))\n",
    "    #Join third variable\n",
    "    SF_trcts_var123 <- st_join(SF_trcts_var12, left = TRUE, var3[length(var3)])\n",
    "    SF_trcts_var123 <- group_by(SF_trcts_var123, NAME, treecount, crimecount)\n",
    "    SF_trcts_var123 <- summarise(SF_trcts_var123, lightcount = sum(lightcount))\n",
    "    #Join fourth variable\n",
    "    SF_trcts_var1234 <- st_join(SF_trcts_var123, left = TRUE, var4[length(var4)])\n",
    "    SF_trcts_var1234 <- group_by(SF_trcts_var1234, NAME, treecount, crimecount, lightcount)\n",
    "    SF_trcts_var1234 <- summarise(SF_trcts_var1234, trashcount = sum(trashcount))\n",
    "\n",
    "    #Replace NA values with 0 (meaning that the count for a given var is 0 if there was no point within a polygon)\n",
    "    SF_trcts_var1234[is.na(SF_trcts_var1234)] <- 0\n",
    "    SF_trcts_vars <- SF_trcts_var1234\n",
    "   return(SF_trcts_vars)\n",
    "}"
   ]
  },
  {
   "cell_type": "code",
   "execution_count": 209,
   "metadata": {},
   "outputs": [
    {
     "name": "stdout",
     "output_type": "stream",
     "text": [
      "Writing layer `DC_blocks_vars' to data source `Data/DC/ProcessedData/DC_blocks_vars.shp' using driver `ESRI Shapefile'\n",
      "Writing 6507 features with 5 fields and geometry type Multi Polygon.\n"
     ]
    }
   ],
   "source": [
    "#Running our spatial join function for Washington DC\n",
    "DC_prcnts_vars <- DC_prcnts_varsfunc(DC_prcnts, DC_trees, DC_crime, DC_streetlights, DC_trashcans)\n",
    "#Save file\n",
    "st_write(DC_prcnts_vars, \"Data/DC/ProcessedData/DC_prcnts_vars.shp\")"
   ]
  },
  {
   "cell_type": "code",
   "execution_count": 213,
   "metadata": {},
   "outputs": [
    {
     "name": "stdout",
     "output_type": "stream",
     "text": [
      "Writing layer `DC_blocks_vars_norm' to data source `Data/DC/ProcessedData/DC_blocks_vars_norm.shp' using driver `ESRI Shapefile'\n",
      "Writing 6507 features with 6 fields and geometry type Multi Polygon.\n"
     ]
    },
    {
     "name": "stderr",
     "output_type": "stream",
     "text": [
      "Warning message in CPL_write_ogr(obj, dsn, layer, driver, as.character(dataset_options), :\n",
      "\"GDAL Message 1: Value 327986804.771181285 of field crimecount of feature 78 not successfully written. Possibly due to too larger number with respect to field width\"Warning message in CPL_write_ogr(obj, dsn, layer, driver, as.character(dataset_options), :\n",
      "\"GDAL Message 1: Value 255495831.949939966 of field crimecount of feature 80 not successfully written. Possibly due to too larger number with respect to field width\""
     ]
    }
   ],
   "source": [
    "#First we calculate the area of each precinct in km2\n",
    "DC_prcnts_vars$km2 <- as.numeric((st_area(DC_prcnts_vars)/1000000))\n",
    "#Next we divide each variable by the tract area\n",
    "DC_prcnts_vars$crimecount <- DC_prcnts_vars$crimecount/DC_prcnts_vars$km2\n",
    "DC_prcnts_vars$lightcount <- DC_prcnts_vars$lightcount/DC_prcnts_vars$km2\n",
    "DC_prcnts_vars$trashcount <- DC_prcnts_vars$trashcount/DC_prcnts_vars$km2\n",
    "DC_prcnts_vars$treecount <- DC_prcnts_vars$treecount/DC_prcnts_vars$km2\n",
    "#Reorder dataframe\n",
    "DC_prcnts_vars <- DC_prcnts_vars[,c('treecount','crimecount','lightcount','trashcount', 'GEOID', 'geometry', 'km2')]\n",
    "#Save file\n",
    "st_write(DC_prcnts_vars, \"Data/DC/ProcessedData/DC_prcnts_vars_norm.shp\")"
   ]
  },
  {
   "cell_type": "markdown",
   "metadata": {},
   "source": [
    "### 1.5 Boston"
   ]
  },
  {
   "cell_type": "code",
   "execution_count": 2,
   "metadata": {},
   "outputs": [
    {
     "name": "stdout",
     "output_type": "stream",
     "text": [
      "Reading layer `geo_export_6d166c39-621f-4ca5-8fa9-6de277c48821' from data source `C:\\Users\\Carol\\Documents\\EPA 2019-2020\\EPA1315\\EPA1315_Assignments\\EPA1315_FinalProject\\EPA1315_FinalProject_Work\\Data\\Boston\\StreetLights\\geo_export_6d166c39-621f-4ca5-8fa9-6de277c48821.shp' using driver `ESRI Shapefile'\n",
      "Simple feature collection with 74065 features and 4 fields\n",
      "geometry type:  POINT\n",
      "dimension:      XY\n",
      "bbox:           xmin: -71.18356 ymin: 42.23259 xmax: -70.92973 ymax: 42.39618\n",
      "epsg (SRID):    4326\n",
      "proj4string:    +proj=longlat +ellps=WGS84 +no_defs\n",
      "Reading layer `Trees' from data source `C:\\Users\\Carol\\Documents\\EPA 2019-2020\\EPA1315\\EPA1315_Assignments\\EPA1315_FinalProject\\EPA1315_FinalProject_Work\\Data\\Boston\\Trees\\Trees.shp' using driver `ESRI Shapefile'\n",
      "Simple feature collection with 201845 features and 2 fields\n",
      "geometry type:  POINT\n",
      "dimension:      XY\n",
      "bbox:           xmin: -71.19069 ymin: 42.23267 xmax: -70.92452 ymax: 42.39691\n",
      "epsg (SRID):    4326\n",
      "proj4string:    +proj=longlat +datum=WGS84 +no_defs\n",
      "Reading layer `Precincts_2017' from data source `C:\\Users\\Carol\\Documents\\EPA 2019-2020\\EPA1315\\EPA1315_Assignments\\EPA1315_FinalProject\\EPA1315_FinalProject_Work\\Data\\Boston\\Precincts\\Precincts_2017.shp' using driver `ESRI Shapefile'\n",
      "Simple feature collection with 255 features and 6 fields\n",
      "geometry type:  MULTIPOLYGON\n",
      "dimension:      XY\n",
      "bbox:           xmin: -71.1917 ymin: 42.22763 xmax: -70.95444 ymax: 42.39695\n",
      "epsg (SRID):    4326\n",
      "proj4string:    +proj=longlat +datum=WGS84 +no_defs\n"
     ]
    }
   ],
   "source": [
    "#Now let's import data for Boston\n",
    "\n",
    "#Open Boston public streetlights\n",
    "BO_streetlights <- st_read(\"Data/Boston/StreetLights/geo_export_6d166c39-621f-4ca5-8fa9-6de277c48821.shp\")\n",
    "#Open Boston trashcans\n",
    "BO_trashcans <- read.csv(\"Data/Boston/TrashCans/big-belly-locations.csv\")\n",
    "#Open Boston trees\n",
    "BO_trees <- st_read(\"Data/Boston/Trees/Trees.shp\")\n",
    "#Open Boston precincts\n",
    "BO_prcnts <- st_read(\"Data/Boston/Precincts/Precincts_2017.shp\")\n",
    "#Open Boston crime\n",
    "BO_crime <- read.csv(\"Data/Boston/Crime/tmp2a1yu35_.csv\")"
   ]
  },
  {
   "cell_type": "code",
   "execution_count": 3,
   "metadata": {},
   "outputs": [
    {
     "name": "stdout",
     "output_type": "stream",
     "text": [
      "Classes 'sf' and 'data.frame':\t161372 obs. of  2 variables:\n",
      " $ INCIDENT_NUMBER: Factor w/ 385423 levels \"162090163\",\"172044761\",..: 385420 385419 385418 385417 385416 385415 385414 385413 385413 385412 ...\n",
      " $ geometry       :sfc_POINT of length 161372; first list element:  'XY' num  42.3 -71.1\n",
      " - attr(*, \"sf_column\")= chr \"geometry\"\n",
      " - attr(*, \"agr\")= Factor w/ 3 levels \"constant\",\"aggregate\",..: 1\n",
      "  ..- attr(*, \"names\")= chr \"INCIDENT_NUMBER\"\n"
     ]
    },
    {
     "name": "stderr",
     "output_type": "stream",
     "text": [
      "Warning message in abbreviate_shapefile_names(obj):\n",
      "\"Field names abbreviated for ESRI Shapefile driver\""
     ]
    },
    {
     "name": "stdout",
     "output_type": "stream",
     "text": [
      "Dataset Data/Boston/Crime/Crime_Data_from_2018_to_Present.shp already exists: remove first, use update=TRUE to append,\n",
      "delete_layer=TRUE to delete layer, or delete_dsn=TRUE to remove the entire data source before writing.\n"
     ]
    },
    {
     "ename": "ERROR",
     "evalue": "Error in CPL_write_ogr(obj, dsn, layer, driver, as.character(dataset_options), : Dataset already exists.\n\n",
     "output_type": "error",
     "traceback": [
      "Error in CPL_write_ogr(obj, dsn, layer, driver, as.character(dataset_options), : Dataset already exists.\n\nTraceback:\n",
      "1. st_write(BO_crime, \"Data/Boston/Crime/Crime_Data_from_2018_to_Present.shp\")",
      "2. st_write.sf(BO_crime, \"Data/Boston/Crime/Crime_Data_from_2018_to_Present.shp\")",
      "3. CPL_write_ogr(obj, dsn, layer, driver, as.character(dataset_options), \n .     as.character(layer_options), geom, dim, fids, quiet, update, \n .     delete_dsn, delete_layer)"
     ]
    }
   ],
   "source": [
    "#Convert csv files to shapefile (with minor clean)\n",
    "\n",
    "#Crime\n",
    "#Subset BO_crime for 2018 and onwards\n",
    "BO_crime <- subset(BO_crime, BO_crime['YEAR'] == '2018' | BO_crime['YEAR'] == '2019')\n",
    "#Get rid of NA values for lat and long\n",
    "BO_crime <-subset(BO_crime, is.na(BO_crime$Long)==FALSE)\n",
    "BO_crime <- BO_crime[, c('Lat', 'Long', 'INCIDENT_NUMBER')]\n",
    "#Convert crime csv to geospatial object\n",
    "BO_crime <- st_as_sf(BO_crime, coords = c(\"Lat\", \"Long\"), \n",
    "                     crs = 4326, agr = \"constant\")\n",
    "\n",
    "#Check structure of BO_crime\n",
    "str(BO_crime)\n",
    "#Write and read BO_crime shapefile\n",
    "st_write(BO_crime,'Data/Boston/Crime/Crime_Data_from_2018_to_Present.shp')\n",
    "BO_crime <- st_read('Data/Boston/Crime/Crime_Data_from_2018_to_Present.shp')\n",
    "\n",
    "#Trashcans\n",
    "#Create columns \"Lat\" and \"Long\" from \"Location\"\n",
    "BO_trashcans <- BO_trashcans %>% separate('Location', into = paste0('Location', 1:2 ), sep = ',')\n",
    "BO_trashcans$Long <- stringr::str_replace(BO_trashcans$Location1, '\\\\(', '')\n",
    "BO_trashcans$Lat <- stringr::str_replace(BO_trashcans$Location2, '\\\\)', '')\n",
    "#Convert Long and Lat to numeric\n",
    "BO_trashcans$Long<- as.numeric(BO_trashcans$Long)\n",
    "BO_trashcans$Lat<- as.numeric(BO_trashcans$Lat)\n",
    "#Remove unneeded columns\n",
    "BO_trashcans <- select(BO_trashcans, 'description', 'Lat', 'Long')\n",
    "#Get rid of NA values for location\n",
    "BO_trashcans <- subset(BO_trashcans, is.na(BO_trashcans$Lat)==FALSE)\n",
    "#Convert crime csv to geospatial object\n",
    "BO_trashcans <- st_as_sf(BO_trashcans, coords = c(\"Lat\", \"Long\"), \n",
    "                     crs = 4326, agr = \"constant\")\n",
    "#Check structure of BO_trashcans\n",
    "str(BO_trashcans)\n",
    "#Write and read BO_trashcans shapefile\n",
    "st_write(BO_trashcans,'Data/Boston/TrashCans/TrashCans.shp')\n",
    "BO_trashcans <- st_read('Data/Boston/TrashCans/TrashCans.shp')\n",
    "\n"
   ]
  },
  {
   "cell_type": "code",
   "execution_count": 4,
   "metadata": {},
   "outputs": [
    {
     "data": {
      "text/plain": [
       "Coordinate Reference System:\n",
       "  EPSG: 4326 \n",
       "  proj4string: \"+proj=longlat +ellps=WGS84 +no_defs\""
      ]
     },
     "metadata": {},
     "output_type": "display_data"
    },
    {
     "data": {
      "text/plain": [
       "Coordinate Reference System: NA"
      ]
     },
     "metadata": {},
     "output_type": "display_data"
    },
    {
     "data": {
      "text/plain": [
       "Coordinate Reference System:\n",
       "  EPSG: 4326 \n",
       "  proj4string: \"+proj=longlat +datum=WGS84 +no_defs\""
      ]
     },
     "metadata": {},
     "output_type": "display_data"
    },
    {
     "data": {
      "text/plain": [
       "Coordinate Reference System:\n",
       "  EPSG: 4326 \n",
       "  proj4string: \"+proj=longlat +datum=WGS84 +no_defs\""
      ]
     },
     "metadata": {},
     "output_type": "display_data"
    },
    {
     "data": {
      "text/plain": [
       "Coordinate Reference System:\n",
       "  EPSG: 4326 \n",
       "  proj4string: \"+proj=longlat +datum=WGS84 +no_defs\""
      ]
     },
     "metadata": {},
     "output_type": "display_data"
    },
    {
     "data": {
      "text/plain": [
       "Coordinate Reference System:\n",
       "  EPSG: 4326 \n",
       "  proj4string: \"+proj=longlat +datum=WGS84 +no_defs\""
      ]
     },
     "metadata": {},
     "output_type": "display_data"
    },
    {
     "data": {
      "text/plain": [
       "Coordinate Reference System: NA"
      ]
     },
     "metadata": {},
     "output_type": "display_data"
    },
    {
     "data": {
      "text/plain": [
       "Coordinate Reference System:\n",
       "  EPSG: 4326 \n",
       "  proj4string: \"+proj=longlat +datum=WGS84 +no_defs\""
      ]
     },
     "metadata": {},
     "output_type": "display_data"
    },
    {
     "data": {
      "text/plain": [
       "Coordinate Reference System:\n",
       "  EPSG: 4326 \n",
       "  proj4string: \"+proj=longlat +datum=WGS84 +no_defs\""
      ]
     },
     "metadata": {},
     "output_type": "display_data"
    },
    {
     "data": {
      "text/plain": [
       "Coordinate Reference System:\n",
       "  EPSG: 4326 \n",
       "  proj4string: \"+proj=longlat +datum=WGS84 +no_defs\""
      ]
     },
     "metadata": {},
     "output_type": "display_data"
    }
   ],
   "source": [
    "#Check coordinate systems\n",
    "st_crs(BO_streetlights)\n",
    "st_crs(BO_trashcans)\n",
    "st_crs(BO_trees)\n",
    "st_crs(BO_prcnts)\n",
    "st_crs(BO_crime)\n",
    "\n",
    "#Reproject to common coordinate systems\n",
    "#Reproject streetlights to common coordinate system\n",
    "BO_streetlights <- st_transform(BO_streetlights, \"+proj=longlat +datum=WGS84 +no_defs\")\n",
    "\n",
    "#Check that all spatial layers are in the same coordinate system\n",
    "st_crs(BO_streetlights)\n",
    "st_crs(BO_trashcans)\n",
    "st_crs(BO_trees)\n",
    "st_crs(BO_prcnts)\n",
    "st_crs(BO_crime)\n"
   ]
  },
  {
   "cell_type": "code",
   "execution_count": 5,
   "metadata": {},
   "outputs": [],
   "source": [
    "#Now let's clean up our layers to include only columns of interest\n",
    "\n",
    "#Crime\n",
    "#Add crime count column\n",
    "BO_crime$crimecount <- 1\n",
    "\n",
    "#Precincts layer\n",
    "BO_prcnts <- select(BO_prcnts, 'WARD_PRECI', 'geometry')\n",
    "\n",
    "#Trashcans\n",
    "#Add trash count column\n",
    "BO_trashcans$trashcount <- 1\n",
    "\n",
    "#Streetlights\n",
    "BO_streetlights <- select(BO_streetlights, 'objectid', 'geometry')\n",
    "BO_streetlights$lightcount <- 1\n",
    "\n",
    "#Trees\n",
    "BO_trees <- select(BO_trees, 'OBJECTID', 'geometry')\n",
    "BO_trees$treecount <- 1"
   ]
  },
  {
   "cell_type": "code",
   "execution_count": 10,
   "metadata": {},
   "outputs": [],
   "source": [
    "#Let's write a function that takes in all the variables, perform spatial joins on points inside voting precinct, and summarizes by voting precinct \n",
    "BO_prcnts_varsfunc <- function(geom, var1, var2, var3, var4) {\n",
    "  #var1=trees; var2=crime; var3=streetlights; var4=trashcans\n",
    "  \n",
    "  #Join first variable\n",
    "  geom_var1 <- st_join(geom, left = TRUE, var1[length(var1)])\n",
    "  geom_var1 <- group_by(geom_var1, WARD_PRECI)\n",
    "  geom_var1 <- summarise(geom_var1, treecount = sum(treecount))\n",
    "  #Join second variable\n",
    "  geom_var12 <- st_join(geom_var1, left = TRUE, var2[length(var2)])\n",
    "  geom_var12 <- group_by(geom_var12, WARD_PRECI, treecount)\n",
    "  geom_var12 <- summarise(geom_var12, crimecount = sum(crimecount))\n",
    "  #Join third variable\n",
    "  geom_var123 <- st_join(geom_var12, left = TRUE, var3[length(var3)])\n",
    "  geom_var123 <- group_by(geom_var123, WARD_PRECI, treecount, crimecount)\n",
    "  geom_var123 <- summarise(geom_var123, lightcount = sum(lightcount))\n",
    "  #Join fourth variable\n",
    "  geom_var1234 <- st_join(geom_var123, left = TRUE, var4[length(var4)])\n",
    "  geom_var1234 <- group_by(geom_var1234, WARD_PRECI, treecount, crimecount, lightcount)\n",
    "  geom_var1234 <- summarise(geom_var1234, trashcount = sum(trashcount))\n",
    "  \n",
    "  #Replace NA values with 0 (meaning that the count for a given var is 0 if there was no point within a polygon)\n",
    "  geom_var1234[is.na(geom_var1234)] <- 0\n",
    "  geom_vars <- geom_var1234\n",
    "  return(geom_vars)\n",
    "}"
   ]
  },
  {
   "cell_type": "code",
   "execution_count": 11,
   "metadata": {},
   "outputs": [
    {
     "name": "stderr",
     "output_type": "stream",
     "text": [
      "although coordinates are longitude/latitude, st_intersects assumes that they are planar\n",
      "although coordinates are longitude/latitude, st_intersects assumes that they are planar\n",
      "although coordinates are longitude/latitude, st_intersects assumes that they are planar\n"
     ]
    },
    {
     "ename": "ERROR",
     "evalue": "Error in st_join.sf(geom_var123, left = TRUE, var4[length(var4)]): second argument should be of class sf: maybe revert the first two arguments?\n",
     "output_type": "error",
     "traceback": [
      "Error in st_join.sf(geom_var123, left = TRUE, var4[length(var4)]): second argument should be of class sf: maybe revert the first two arguments?\nTraceback:\n",
      "1. BO_prcnts_varsfunc(BO_prcnts, BO_trees, BO_crime, BO_streetlights, \n .     BO_trashcans)",
      "2. st_join(geom_var123, left = TRUE, var4[length(var4)])   # at line 18 of file <text>",
      "3. st_join.sf(geom_var123, left = TRUE, var4[length(var4)])",
      "4. stop(\"second argument should be of class sf: maybe revert the first two arguments?\")"
     ]
    }
   ],
   "source": [
    "#Running our spatial join function for Washington DC\n",
    "BO_prcnts_vars <- BO_prcnts_varsfunc(BO_prcnts, BO_trees, BO_crime, BO_streetlights, BO_trashcans)\n",
    "#Save file\n",
    "#st_write(BO_prcnts_vars, \"Data/Boston/ProcessedData/BO_prcnts_vars.shp\")\n"
   ]
  },
  {
   "cell_type": "code",
   "execution_count": 12,
   "metadata": {},
   "outputs": [],
   "source": [
    "#Running our spatial join function for Washington DC\n",
    "BO_prcnts_vars <- BO_prcnts_varsfunc(BO_prcnts, BO_trees, BO_crime, BO_streetlights, BO_trashcans)\n",
    "#Save file\n",
    "st_write(BO_prcnts_vars, \"Data/Boston/ProcessedData/BO_prcnts_vars.shp\")\n",
    "\n",
    "#First we calculate the area of each precinct in km2\n",
    "BO_prcnts_vars$km2 <- as.numeric((st_area(BO_prcnts_vars)/1000000))\n",
    "#Next we divide each variable by the tract area\n",
    "BO_prcnts_vars$crimecount <- BO_prcnts_vars$crimecount/BO_prcnts_vars$km2\n",
    "BO_prcnts_vars$lightcount <- BO_prcnts_vars$lightcount/BO_prcnts_vars$km2\n",
    "BO_prcnts_vars$trashcount <- BO_prcnts_vars$trashcount/BO_prcnts_vars$km2\n",
    "BO_prcnts_vars$treecount <- BO_prcnts_vars$treecount/BO_prcnts_vars$km2\n",
    "#Reorder dataframe\n",
    "BO_prcnts_vars <- BO_prcnts_vars[,c('treecount','crimecount','lightcount','trashcount', 'WARD_PRECI', 'geometry', 'km2')]\n",
    "#Save file\n",
    "st_write(BO_prcnts_vars, \"Data/Boston/ProcessedData/Boston_prcnts_vars_norm.shp\")"
   ]
  },
  {
   "cell_type": "code",
   "execution_count": null,
   "metadata": {},
   "outputs": [],
   "source": []
  },
  {
   "cell_type": "code",
   "execution_count": null,
   "metadata": {},
   "outputs": [],
   "source": []
  },
  {
   "cell_type": "code",
   "execution_count": null,
   "metadata": {},
   "outputs": [],
   "source": []
  },
  {
   "cell_type": "code",
   "execution_count": null,
   "metadata": {},
   "outputs": [],
   "source": []
  },
  {
   "cell_type": "code",
   "execution_count": null,
   "metadata": {},
   "outputs": [],
   "source": []
  },
  {
   "cell_type": "code",
   "execution_count": null,
   "metadata": {},
   "outputs": [],
   "source": []
  },
  {
   "cell_type": "code",
   "execution_count": null,
   "metadata": {},
   "outputs": [],
   "source": []
  },
  {
   "cell_type": "code",
   "execution_count": null,
   "metadata": {},
   "outputs": [],
   "source": []
  },
  {
   "cell_type": "code",
   "execution_count": null,
   "metadata": {},
   "outputs": [],
   "source": []
  },
  {
   "cell_type": "code",
   "execution_count": null,
   "metadata": {},
   "outputs": [],
   "source": []
  },
  {
   "cell_type": "code",
   "execution_count": null,
   "metadata": {},
   "outputs": [],
   "source": []
  },
  {
   "cell_type": "code",
   "execution_count": null,
   "metadata": {},
   "outputs": [],
   "source": []
  },
  {
   "cell_type": "code",
   "execution_count": null,
   "metadata": {},
   "outputs": [],
   "source": []
  },
  {
   "cell_type": "code",
   "execution_count": null,
   "metadata": {},
   "outputs": [],
   "source": []
  },
  {
   "cell_type": "code",
   "execution_count": null,
   "metadata": {},
   "outputs": [],
   "source": []
  },
  {
   "cell_type": "markdown",
   "metadata": {},
   "source": [
    "### 1.5 Merging all the cities into one dataset"
   ]
  },
  {
   "cell_type": "code",
   "execution_count": null,
   "metadata": {},
   "outputs": [],
   "source": [
    "SF_prcnts_vars <- st_read(\"Data/SF/ProcessedData/SF_prcnts_vars_norm.shp\")\n",
    "LA_prcnts_vars <- st_read(\"Data/LA/ProcessedData/LA_prcnts_vars_norm.shp\")\n",
    "PH_prcnts_vars <- st_read(\"Data/Philadelphia/ProcessedData/PH_prcnts_vars_norm.shp\")\n",
    "DC_prcnts_vars <- st_read(\"Data/DC/ProcessedData/DC_prcnts_vars_norm.shp\")"
   ]
  },
  {
   "cell_type": "code",
   "execution_count": 126,
   "metadata": {},
   "outputs": [],
   "source": [
    "#Add city name column to each city\n",
    "SF_prcnts_vars$CITY <- \"San Francisco\"\n",
    "LA_prcnts_vars$CITY <- \"Los Angeles\"\n",
    "PH_prcnts_vars$CITY <- \"Philadelphia\"\n",
    "DC_prcnts_vars$CITY <- \"Washington DC\"\n",
    "\n",
    "#Select only common columns\n",
    "SF_prcnts_vars <- SF_prcnts_vars[, c('treecount','crimecount','lightcount','trashcount','CITY', 'geometry','km2')]\n",
    "LA_prcnts_vars <- LA_prcnts_vars[, c('treecount','crimecount','lightcount','trashcount','CITY', 'geometry','km2')]\n",
    "PH_prcnts_vars <- PH_prcnts_vars[, c('treecount','crimecount','lightcount','trashcount','CITY', 'geometry','km2')]\n",
    "DC_prcnts_vars <- DC_prcnts_vars[, c('treecount','crimecount','lightcount','trashcount','CITY', 'geometry','km2')]"
   ]
  },
  {
   "cell_type": "code",
   "execution_count": 136,
   "metadata": {},
   "outputs": [
    {
     "name": "stdout",
     "output_type": "stream",
     "text": [
      "Writing layer `SF_LA_PH_DC_prcnts_vars' to data source `Data/AllCities/Spatial/SF_LA_PH_DC_prcnts_vars.shp' using driver `ESRI Shapefile'\n",
      "Writing 4077 features with 6 fields and geometry type Unknown (any).\n"
     ]
    }
   ],
   "source": [
    "#Bind all cities row wise\n",
    "SF_LA_PH_DC_prcnts_vars <- rbind(SF_prcnts_vars, LA_prcnts_vars, PH_prcnts_vars, DC_prcnts_vars)\n",
    "SF_LA_PH_DC_prcnts_vars$CITY <- as.factor(SF_LA_PH_DC_prcnts_vars$CITY)\n",
    "st_write(SF_LA_PH_DC_prcnts_vars, 'Data/AllCities/Spatial/SF_LA_PH_DC_prcnts_vars.shp')"
   ]
  },
  {
   "cell_type": "code",
   "execution_count": null,
   "metadata": {},
   "outputs": [],
   "source": [
    "#Convert to dataframes and write tables\n",
    "st_geometry(SF_LA_PH_DC_prcnts_vars) <- NULL\n",
    "#All\n",
    "write.csv(SF_LA_PH_DC_prcnts_vars, file = 'Data/AllCities/Tables/SF_LA_PH_DC_prcnts_vars.csv')\n",
    "#SF\n",
    "write.csv(SF_prcnts_vars, file = 'Data/AllCities/Tables/SF_prcnts_vars.csv')\n",
    "#LA\n",
    "write.csv(LA_prcnts_vars, file = 'Data/AllCities/Tables/LA_prcnts_vars.csv')\n",
    "#PH\n",
    "write.csv(PH_prcnts_vars, file = 'Data/AllCities/Tables/PH_prcnts_vars.csv')\n",
    "#DC\n",
    "write.csv(DC_prcnts_vars, file = 'Data/AllCities/Tables/DC_prcnts_vars.csv')"
   ]
  },
  {
   "cell_type": "code",
   "execution_count": null,
   "metadata": {},
   "outputs": [],
   "source": []
  },
  {
   "cell_type": "code",
   "execution_count": null,
   "metadata": {},
   "outputs": [],
   "source": []
  },
  {
   "cell_type": "code",
   "execution_count": null,
   "metadata": {},
   "outputs": [],
   "source": []
  },
  {
   "cell_type": "code",
   "execution_count": null,
   "metadata": {},
   "outputs": [],
   "source": []
  },
  {
   "cell_type": "code",
   "execution_count": null,
   "metadata": {},
   "outputs": [],
   "source": []
  },
  {
   "cell_type": "code",
   "execution_count": null,
   "metadata": {},
   "outputs": [],
   "source": []
  },
  {
   "cell_type": "code",
   "execution_count": null,
   "metadata": {},
   "outputs": [],
   "source": []
  },
  {
   "cell_type": "code",
   "execution_count": null,
   "metadata": {},
   "outputs": [],
   "source": []
  },
  {
   "cell_type": "code",
   "execution_count": null,
   "metadata": {},
   "outputs": [],
   "source": []
  },
  {
   "cell_type": "code",
   "execution_count": null,
   "metadata": {},
   "outputs": [],
   "source": []
  },
  {
   "cell_type": "code",
   "execution_count": null,
   "metadata": {},
   "outputs": [],
   "source": []
  },
  {
   "cell_type": "code",
   "execution_count": null,
   "metadata": {},
   "outputs": [],
   "source": []
  },
  {
   "cell_type": "code",
   "execution_count": null,
   "metadata": {},
   "outputs": [],
   "source": []
  },
  {
   "cell_type": "code",
   "execution_count": null,
   "metadata": {},
   "outputs": [],
   "source": []
  },
  {
   "cell_type": "code",
   "execution_count": null,
   "metadata": {},
   "outputs": [],
   "source": []
  },
  {
   "cell_type": "code",
   "execution_count": null,
   "metadata": {},
   "outputs": [],
   "source": []
  },
  {
   "cell_type": "code",
   "execution_count": null,
   "metadata": {},
   "outputs": [],
   "source": []
  },
  {
   "cell_type": "code",
   "execution_count": null,
   "metadata": {},
   "outputs": [],
   "source": []
  },
  {
   "cell_type": "code",
   "execution_count": 134,
   "metadata": {},
   "outputs": [
    {
     "name": "stdout",
     "output_type": "stream",
     "text": [
      "Classes 'sf' and 'data.frame':\t4077 obs. of  7 variables:\n",
      " $ treecount : num  1748 651 1015 1456 961 ...\n",
      " $ crimecount: num  2837 1451 1073 591 1245 ...\n",
      " $ lightcount: num  0 0 0 0 0 0 0 0 0 0 ...\n",
      " $ trashcount: num  0 0 0 4.24 0 ...\n",
      " $ CITY      : Factor w/ 4 levels \"Los Angeles\",..: 3 3 3 3 3 3 3 3 3 3 ...\n",
      " $ km2       : num  0.272 1.072 0.882 1.651 0.258 ...\n",
      " $ geometry  :sfc_GEOMETRY of length 4077; first list element: List of 1\n",
      "  ..$ :List of 1\n",
      "  .. ..$ : num [1:43, 1:2] -122 -122 -122 -122 -122 ...\n",
      "  ..- attr(*, \"class\")= chr  \"XY\" \"MULTIPOLYGON\" \"sfg\"\n",
      " - attr(*, \"sf_column\")= chr \"geometry\"\n",
      " - attr(*, \"agr\")= Factor w/ 3 levels \"constant\",\"aggregate\",..: NA NA NA NA NA NA\n",
      "  ..- attr(*, \"names\")= chr  \"treecount\" \"crimecount\" \"lightcount\" \"trashcount\" ...\n"
     ]
    }
   ],
   "source": [
    "str(SF_LA_PH_DC_prcnts_vars)"
   ]
  },
  {
   "cell_type": "code",
   "execution_count": null,
   "metadata": {},
   "outputs": [],
   "source": [
    "#Let's write a function that takes in all of the cities, deletes uncommon column, creates a new column with city name\n",
    "city_merge <- function(...){\n",
    "    cities <- list(...) # THIS WILL BE A LIST STORING INPUT CITIES:\n",
    "    #Bind all cities row-wise\n",
    "    all_cities <- rbind(cities)\n",
    "    return(all_cities)\n",
    "}"
   ]
  },
  {
   "cell_type": "code",
   "execution_count": null,
   "metadata": {},
   "outputs": [],
   "source": [
    "#Let's write a function that takes in all of the cities, deletes uncommon column, creates a new column with city name\n",
    "city_merge <- function(...){\n",
    "    cities <- c(...) # THIS WILL BE A LIST STORING INPUT CITIES:\n",
    "    #This vector will store cleaned cities\n",
    "    cleancities <- c()\n",
    "    for (city in cities){\n",
    "        #Select only common columns\n",
    "        cleancities <- c(cleancities, city[ ,c('treecount','crimecount','lightcount','trashcount','CITY', 'geometry','km2')])\n",
    "        }\n",
    "    #Bind all cities row-wise\n",
    "    all_cities <- rbind(cleancities)\n",
    "    return(all_cities)\n",
    "}"
   ]
  },
  {
   "cell_type": "code",
   "execution_count": null,
   "metadata": {},
   "outputs": [],
   "source": [
    "#Let's write a function that takes in all of the cities, deletes uncommon column, creates a new column with city name\n",
    "city_merge <- function(...){\n",
    "    cities <- c(...) # THIS WILL BE A LIST STORING INPUT CITIES:\n",
    "    #This vector will store cleaned cities\n",
    "    cleancities <- c()\n",
    "    for (city in cities){\n",
    "        #Select only common columns\n",
    "        cleancities <- c(city, select(city, c('treecount','crimecount','lightcount','trashcount','CITY', 'geometry','km2')))\n",
    "        }\n",
    "    #Bind all cities row-wise\n",
    "    all_cities <- rbind(cleancities)\n",
    "    return(all_cities)\n",
    "}"
   ]
  },
  {
   "cell_type": "code",
   "execution_count": 98,
   "metadata": {},
   "outputs": [
    {
     "ename": "ERROR",
     "evalue": "Error: No mapbox access token found. Obtain a token here\nhttps://www.mapbox.com/help/create-api-access-token/\nOnce you have a token, assign it to an environment variable \nnamed 'MAPBOX_TOKEN', for example,\nSys.setenv('MAPBOX_TOKEN' = 'secret token')\n",
     "output_type": "error",
     "traceback": [
      "Error: No mapbox access token found. Obtain a token here\nhttps://www.mapbox.com/help/create-api-access-token/\nOnce you have a token, assign it to an environment variable \nnamed 'MAPBOX_TOKEN', for example,\nSys.setenv('MAPBOX_TOKEN' = 'secret token')\nTraceback:\n",
      "1. plot_mapbox(SF_prcnts_vars, split = ~NAME) %>% layout(mapbox = list(zoom = 6))",
      "2. eval(lhs, parent, parent)",
      "3. eval(lhs, parent, parent)",
      "4. plot_mapbox(SF_prcnts_vars, split = ~NAME)",
      "5. config(plot_ly(data, ...), mapboxAccessToken = mapbox_token())",
      "6. mapbox_token()",
      "7. stop(\"No mapbox access token found. Obtain a token here\\n\", \"https://www.mapbox.com/help/create-api-access-token/\\n\", \n .     \"Once you have a token, assign it to an environment variable \\n\", \n .     \"named 'MAPBOX_TOKEN', for example,\\n\", \"Sys.setenv('MAPBOX_TOKEN' = 'secret token')\", \n .     call. = FALSE)"
     ]
    }
   ],
   "source": [
    "p <- plot_mapbox(SF_prcnts_vars, split=~NAME) %>%\n",
    "  layout(\n",
    "    mapbox = list(\n",
    "      zoom = 6\n",
    "    )\n",
    "  )\n",
    "chart_link = api_create(p, filename=\"SF_prcnts_vars\")\n",
    "chart_link"
   ]
  },
  {
   "cell_type": "code",
   "execution_count": null,
   "metadata": {},
   "outputs": [],
   "source": [
    "library(plotly)\n",
    "\n",
    "#Create interactive fields\n",
    "df$hover <- with(df, paste(state, '<br>', \"Beef\", beef, \"Dairy\", dairy, \"<br>\",\n",
    "                           \"Fruits\", total.fruits, \"Veggies\", total.veggies,\n",
    "                           \"<br>\", \"Wheat\", wheat, \"Corn\", corn))\n",
    "# Give state boundaries a white border\n",
    "l <- list(color = toRGB(\"white\"), width = 2)\n",
    "# Specify some map projection/options\n",
    "g <- list(\n",
    "  scope = 'usa',\n",
    "  projection = list(type = 'albers usa'),\n",
    "  showlakes = TRUE,\n",
    "  lakecolor = toRGB('white')\n",
    ")\n",
    "\n",
    "p <- plot_geo(df, locationmode = 'USA-states') %>%\n",
    "  add_trace(\n",
    "    z = ~total.exports, text = ~hover, locations = ~code,\n",
    "    color = ~total.exports, colors = 'Purples'\n",
    "  ) %>%\n",
    "  colorbar(title = \"Millions USD\") %>%\n",
    "  layout(\n",
    "    title = '2011 US Agriculture Exports by State<br>(Hover for breakdown)',\n",
    "    geo = g\n",
    "  )"
   ]
  },
  {
   "cell_type": "code",
   "execution_count": null,
   "metadata": {},
   "outputs": [],
   "source": []
  },
  {
   "cell_type": "code",
   "execution_count": null,
   "metadata": {},
   "outputs": [],
   "source": [
    "ggplot(data=SF_prcnts_vars)+\n",
    " geom_sf()\n",
    "\n",
    "ggplot(data=SF_streetlights)+\n",
    " geom_sf()"
   ]
  },
  {
   "cell_type": "code",
   "execution_count": null,
   "metadata": {},
   "outputs": [],
   "source": [
    "#Plot instances of petty crimes by neighborhood 2003-2018\n",
    "ggplot(data = SF_nresil_final) + \n",
    "  geom_sf(aes(fill = PettyCrime_Count),color=NA) +\n",
    "  scale_fill_gradient(high = \"#e34a33\", low = \"#fee8c8\", guide = \"colorbar\", name = '') +\n",
    "  labs(title='Petty Crime in San Francisco',\n",
    "       subtitle='Instances of Petty Crimes by Neighborhood 2003-2018') +\n",
    "  theme_void()\n",
    "\n",
    "#Plot Violent crimes, per 1000 people by neighborhood: VCrim_Rate\n",
    "ggplot(data = SF_nbhds_resil) + \n",
    "  geom_sf(aes(fill = VCrim_Rate),color=NA) +\n",
    "  scale_fill_gradient(high = \"#e34a33\", low = \"#fee8c8\", guide = \"colorbar\", name = '') +\n",
    "  labs(title='Crime in San Francisco',\n",
    "       subtitle='Violent Crimes per 1000 poople by neighborhood ') +\n",
    "  theme_void()\n",
    "\n",
    "#Plot Violent crimes, per 1000 people by neighborhood and overlay transit stops\n",
    "ggplot(data = SF_nbhds_resil) + \n",
    "  geom_sf(aes(fill = VCrim_Rate),color=NA) +\n",
    "  geom_sf(data=SF_citytransit, size=0.1, color='black') +\n",
    "  scale_fill_gradient(high = \"#e34a33\", low = \"#fee8c8\", guide = \"colorbar\", name = '') +\n",
    "  labs(title='Crime in San Francisco',\n",
    "       subtitle='Violent Crimes per 1000 poople by neighborhood ') +\n",
    "  theme_void()\n",
    "\n",
    "#Plot tree cover percentage by neighborghood: Tree_Per\n",
    "ggplot(data = SF_nbhds_resil) + \n",
    "  geom_sf(aes(fill = Tree_Per),color=NA) +\n",
    "  scale_fill_gradient2(high = \"#025A22\", low = \"#ADF2C6\")+\n",
    "  labs(title='Trees in San Francisco',\n",
    "       subtitle='% Tree Cover by Neighborhood') +\n",
    "  theme_void()\n",
    "\n",
    "#Plot Average annual PM2.5 concentration from all sources: PM_Conc\n",
    "ggplot(data = SF_nbhds_resil) + \n",
    "  geom_sf(aes(fill = PM_Conc),color=NA) +\n",
    "  scale_fill_gradient2(low = \"#D2C6AC\", high = \"#684705\", midpoint = mean(SF_nbhds_resil$PM_Conc))+\n",
    "  labs(title='Pollution in San Francisco',\n",
    "       subtitle='PM2.5 Concentration by Neighborhood') +\n",
    "  theme_void()\n",
    "\n",
    "#Plot Percent impervious surface: imp_per\n",
    "ggplot(data = SF_nbhds_resil) + \n",
    "  geom_sf(aes(fill = Imp_Per),color=NA) +\n",
    "  scale_fill_gradient2(low = \"green4\", high = \"grey\", midpoint = 0.5)+\n",
    "  labs(title='Impermeability in San Francisco',\n",
    "       subtitle='% impervious surfaces by Neighborhood') +\n",
    "  theme_void()\n",
    "\n",
    "#Plot Percent of the land‐area in ‘high’ or ‘very high’ heat vulnerability areas: heat_per\n",
    "ggplot(data = SF_nbhds_resil) + \n",
    "  geom_sf(aes(fill = Heat_Per),color=NA) +\n",
    "  scale_fill_gradient2(low = \"blue\", high = \"orange\", midpoint = 0.2)+\n",
    "  labs(title='Heat Vulnerability in San Francisco',\n",
    "       subtitle='% of Neighborhood in ‘high’ or ‘very high’ heat vulnerability areas') +\n",
    "  theme_void()\n",
    "\n",
    "#Plot Percent of the land‐area in the 100‐year storm flood plain: flood_per\n",
    "ggplot(data = SF_nbhds_resil) + \n",
    "  geom_sf(aes(fill = Flood_Per),color=NA) +\n",
    "  scale_fill_gradient2(low = \"white\", high = \"blue\")+\n",
    "  labs(title='Flood Vulnerability in San Francisco',\n",
    "       subtitle='% of the neighborhood in the 100 year storm flood plain') +\n",
    "  theme_void()\n",
    "\n",
    "#Plot 2015-2040 job growth for san francisco city\n",
    "ggplot(data = SF_cityjobs) + \n",
    "  geom_sf(aes(fill = jobgrowth_20102040),color=NA) +\n",
    "  scale_fill_viridis_c(option = \"plasma\", trans = \"sqrt\", direction = -1) +\n",
    "  labs(title='Projected Job Growth for San Francisco',\n",
    "       subtitle='Number of new jobs projected for the 2015-2040 period')+\n",
    "  theme_void()\n",
    "\n",
    "#Plot 2015-2040 pop growth for san francisco city\n",
    "ggplot(data = SF_citypop) + \n",
    "  geom_sf(aes(fill = popgrowth_20102040),color=NA) +\n",
    "  scale_fill_viridis_c(option = \"plasma\", trans = \"sqrt\", direction = -1) +\n",
    "  labs(title='Projected Population Growth for San Francisco',\n",
    "       subtitle='New population projected for the 2015-2040 period')+\n",
    "  theme_void()"
   ]
  }
 ],
 "metadata": {
  "kernelspec": {
   "display_name": "R",
   "language": "R",
   "name": "ir"
  },
  "language_info": {
   "codemirror_mode": "r",
   "file_extension": ".r",
   "mimetype": "text/x-r-source",
   "name": "R",
   "pygments_lexer": "r",
   "version": "3.6.1"
  }
 },
 "nbformat": 4,
 "nbformat_minor": 4
}
